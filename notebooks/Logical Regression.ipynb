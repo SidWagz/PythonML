{
 "cells": [
  {
   "cell_type": "code",
   "execution_count": 4,
   "metadata": {
    "collapsed": false
   },
   "outputs": [],
   "source": [
    "%matplotlib inline\n",
    "import numpy as np\n",
    "import pandas as pd\n",
    "import matplotlib.pyplot as plt\n",
    "from numpy.linalg import pinv"
   ]
  },
  {
   "cell_type": "code",
   "execution_count": 5,
   "metadata": {
    "collapsed": false
   },
   "outputs": [],
   "source": [
    "class LogicalRegression:\n",
    "    \n",
    "    def __init__(self, X=None, Y=None):\n",
    "        \n",
    "        if X is None:\n",
    "            raise TypeError(\"'X' expected as 2-dimensional array, found 'None' instead\")\n",
    "        else:\n",
    "            temp = np.array(X)\n",
    "            if temp.ndim == 1:\n",
    "                raise TypeError(\"'X' is 1-dimensional array, not compatible with 2-dimension matrices\")\n",
    "            if temp.ndim > 2:\n",
    "                raise TypeError(\"'X' cannot be more than 2-dimensional, please specify a 2d matrix\")\n",
    "            \n",
    "            self.X = np.concatenate((np.ones((len(temp), 1)), temp), axis=1)\n",
    "            \n",
    "        if Y is None:\n",
    "            raise TypeError(\"'Y' expected as 1-dimensional array, found 'None' instead\")\n",
    "        else:\n",
    "            temp = np.array(Y)\n",
    "            if temp.ndim > 2:\n",
    "                raise TypeError(\"'Y' cannot be more than 2-dimensional, please specify a 1d vector\")\n",
    "            if temp.ndim == 1:\n",
    "                temp = temp.reshape((-1, 1))\n",
    "            elif temp.shape[0] == 1:\n",
    "                temp = temp.T\n",
    "            elif not temp.shape[1] == 1:\n",
    "                raise TypeError(\"'Y' has to be a 1d-array or a 2-dimensional vector along the row or column\")\n",
    "            \n",
    "            self.Y = temp\n",
    "            \n",
    "            if not len(self.X) == len(self.Y):\n",
    "                raise RuntimeError(\"Length of input records in 'X' %d do not match to number of length of output \\\n",
    "                        vector %d\" % (self.X.shape[0],self.Y.shape[0]))\n",
    "        \n",
    "        self.features = self.X.shape[1]\n",
    "        self.num = self.X.shape[0]\n",
    "        \n",
    "#         self.theta = np.zeros((self.features, 1))\n",
    "        self.theta = np.random.rand(self.features, 1)\n",
    "    \n",
    "#         self.validate()\n",
    "    \n",
    "    def validate(self):\n",
    "        pass\n",
    "    \n",
    "    def hypothesis(self, theta=None, X=None, use_model=True):\n",
    "        \n",
    "        if use_data:\n",
    "            theta = self.theta\n",
    "            X = self.X\n",
    "        \n",
    "        if theta is None:\n",
    "            raise TypeError(\"'theta' is expected as 1-dimensional array, found 'None' instead\")\n",
    "            \n",
    "        if X is None:\n",
    "            raise TypeError(\"'X' is expected as 2-dimensional array or matrix, found 'None' instead\")\n",
    "        \n",
    "        temp = np.dot(X, theta)\n",
    "        return 1 / (1 + np.exp(-1 * temp))\n",
    "    \n",
    "    def G(self, **kwargs):\n",
    "        return hypothesis(**kwargs)\n",
    "    \n",
    "    def cost_function(self, X=None, Y=None, use_model=True, regularize=False, reg_lambda=0):\n",
    "        \n",
    "        if use_model:\n",
    "            X = self.X\n",
    "            Y = self.Y\n",
    "                \n",
    "        if X is None:\n",
    "            raise TypeError(\"'X' expected as 2-dimensional array or matrix, found 'None' instead\")\n",
    "        elif not X.ndim == 2:\n",
    "            raise TypeError(\"'X' expected as 2-dimensional array or matrix, not \" + X.ndim + \" dimensions\")\n",
    "            \n",
    "        if Y is None:\n",
    "            raise TypeError(\"'Y' expected as 1-dimensional vector, found 'None' instead\")\n",
    "        elif Y.ndim == 2:\n",
    "            if 1 not in Y.shape:\n",
    "                raise TypeError(\"'Y' expected as 2-dimensional row or column vector, not \" + str(Y.shape) + \n",
    "                                \" dimensions\")\n",
    "            else:\n",
    "                Y = Y.reshape(-1, 1)\n",
    "        elif Y.ndim == 1:\n",
    "            Y = Y.reshape(-1, 1)\n",
    "        \n",
    "        H = hypothesis(theta=self.theta, X=X, use_model=use_model)\n",
    "        m = X.shape[0]\n",
    "        \n",
    "        temp = Y.dot(np.log(H)) + (1-Y).dot(np.log(1-H))\n",
    "        j = -1 * temp.sum() / m\n",
    "        \n",
    "        if regularize:\n",
    "            reg = reg_lambda * (theta**2).sum()\n",
    "            return j + reg / 2 / m\n",
    "        else:\n",
    "            return j\n",
    "            \n",
    "    def J(self, **kwargs):\n",
    "        return cost_function(**kwargs)\n",
    "    \n",
    "    def gradient_descent(self, X=None, Y=None, alpha=0, use_model=False, regularize=False, reg_lambda=0):\n",
    "        \n",
    "        if use_model:\n",
    "            X = self.X\n",
    "            Y = self.Y\n",
    "                \n",
    "        if X is None:\n",
    "            raise TypeError(\"'X' expected as 2-dimensional array or matrix, found 'None' instead\")\n",
    "        elif not X.ndim == 2:\n",
    "            raise TypeError(\"'X' expected as 2-dimensional array or matrix, not \" + X.ndim + \" dimensions\")\n",
    "            \n",
    "        if Y is None:\n",
    "            raise TypeError(\"'Y' expected as 1-dimensional vector, found 'None' instead\")\n",
    "        elif Y.ndim == 2:\n",
    "            if 1 not in Y.shape:\n",
    "                raise TypeError(\"'Y' expected as 2-dimensional row or column vector, not \" + str(Y.shape) + \n",
    "                                \" dimensions\")\n",
    "            else:\n",
    "                Y = Y.reshape(-1, 1)\n",
    "        elif Y.ndim == 1:\n",
    "            Y = Y.reshape(-1, 1)\n",
    "            \n",
    "        m = X.shape[0]\n",
    "        \n",
    "        temp = np.dot(X, self.theta)\n",
    "        temp = temp - Y\n",
    "        \n",
    "        if regularize:\n",
    "            return ((1 - alpha*reg_lambda/m) * self.theta) - (alpha * (X.T.dot(temp)) / m)\n",
    "        else:\n",
    "            return self.theta - (alpha * (X.T.dot(temp)) / m)\n",
    "    \n",
    "    def normal_theta(self, ip=None, op=None, use_model=False, regularize=False, reg_lambda=0):\n",
    "        \n",
    "        if use_model:\n",
    "            ip = self.X\n",
    "            op = self.Y\n",
    "        \n",
    "        if ip is None:\n",
    "            raise TypeError(\"'ip' expected as 2-dimensional array or matrix, found 'None' instead\")\n",
    "        \n",
    "        if not isinstance(ip, np.ndarray):\n",
    "            ip = np.array(ip)\n",
    "            \n",
    "        if not ip.ndim == 2:\n",
    "            raise TypeError(\"'ip' expected as 2-dimensional array or matrix, not\" + str(ip.ndim) + \" dimensions\")\n",
    "            \n",
    "        if op is None:\n",
    "            raise TypeError(\"'op' expected as 1-dimensional vector, found 'None' instead\")\n",
    "        \n",
    "        if not isinstance(op, np.ndarray):\n",
    "            op = np.array(op)\n",
    "        \n",
    "        if op.ndim == 2:\n",
    "            if 1 not in op.shape:\n",
    "                raise TypeError(\"'op' expected as 2-dimensional row or column vector, not \" + str(op.shape) + \n",
    "                                \" dimensions\")\n",
    "            else:\n",
    "                op = op.reshape(-1, 1)\n",
    "        elif Y.ndim == 1:\n",
    "            op = op.reshape(-1, 1)\n",
    "        \n",
    "        A = pinv(ip.T.dot(ip))\n",
    "        n = ip.shape[1]\n",
    "        i = np.eye(n)\n",
    "        i[0][0] = 0\n",
    "        \n",
    "        B = A\n",
    "        if regularize:\n",
    "            B = B + reg_lambda*i\n",
    "        return B.dot(ip.T).dot(op)\n",
    "    \n",
    "    def fit(self, use_GD=False, regularize=False, reg_lambda=0, loop=1000):\n",
    "        if not use_GD:\n",
    "            self.theta = self.normal_theta(use_model=True, regularize=regularize, reg_lambda=reg_lambda)\n",
    "        else:\n",
    "            for i in range(loop):\n",
    "                self.theta = self.gradient_descent(use_model=True, regularize=regularize, \\\n",
    "                                                   reg_lambda=reg_lambda, alpha=.03)\n",
    "        \n",
    "        return self.theta\n",
    "    \n",
    "    def predict(self, ip=None, threshold=.5):\n",
    "        \n",
    "        ip = np.array(ip)\n",
    "        \n",
    "        if ip.ndim == 1:\n",
    "            ip = ip.reshape(1, -1)\n",
    "        if ip.ndim <= 2:\n",
    "            ip = np.concatenate((np.ones((len(ip), 1)), ip), axis=1)\n",
    "        if ip.ndim > 2:\n",
    "            raise TypeError(\"'ip' has to be a 1d-vector or a 2-dimensional array or matrix\")\n",
    "            \n",
    "        return ip.dot(self.theta) >= threshold\n",
    "    \n",
    "    def get_nfeature(self):\n",
    "        return self.X.shape[1]-1\n",
    "        "
   ]
  },
  {
   "cell_type": "code",
   "execution_count": 6,
   "metadata": {
    "collapsed": false
   },
   "outputs": [],
   "source": [
    "model = LogicalRegression(X=[[1], [2], [3], [4], [5]], Y=[0, 0, 0, 1, 1])"
   ]
  },
  {
   "cell_type": "code",
   "execution_count": 7,
   "metadata": {
    "collapsed": false
   },
   "outputs": [
    {
     "data": {
      "text/plain": [
       "array([[-0.49607818],\n",
       "       [ 0.29891372]])"
      ]
     },
     "execution_count": 7,
     "metadata": {},
     "output_type": "execute_result"
    }
   ],
   "source": [
    "param = model.fit(use_GD=True)\n",
    "param"
   ]
  },
  {
   "cell_type": "code",
   "execution_count": 8,
   "metadata": {
    "collapsed": false
   },
   "outputs": [
    {
     "data": {
      "text/plain": [
       "array([[ True]], dtype=bool)"
      ]
     },
     "execution_count": 8,
     "metadata": {},
     "output_type": "execute_result"
    }
   ],
   "source": [
    "model.theta = param\n",
    "model.predict(ip=[4])"
   ]
  },
  {
   "cell_type": "code",
   "execution_count": 9,
   "metadata": {
    "collapsed": false
   },
   "outputs": [
    {
     "data": {
      "text/plain": [
       "1"
      ]
     },
     "execution_count": 9,
     "metadata": {},
     "output_type": "execute_result"
    }
   ],
   "source": [
    "model.get_nfeature()"
   ]
  },
  {
   "cell_type": "code",
   "execution_count": null,
   "metadata": {
    "collapsed": true
   },
   "outputs": [],
   "source": []
  }
 ],
 "metadata": {
  "kernelspec": {
   "display_name": "Python 3",
   "language": "python",
   "name": "python3"
  },
  "language_info": {
   "codemirror_mode": {
    "name": "ipython",
    "version": 3
   },
   "file_extension": ".py",
   "mimetype": "text/x-python",
   "name": "python",
   "nbconvert_exporter": "python",
   "pygments_lexer": "ipython3",
   "version": "3.5.1"
  }
 },
 "nbformat": 4,
 "nbformat_minor": 0
}
