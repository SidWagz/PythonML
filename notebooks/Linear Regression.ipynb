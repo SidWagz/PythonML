{
 "cells": [
  {
   "cell_type": "code",
   "execution_count": 682,
   "metadata": {
    "collapsed": true
   },
   "outputs": [],
   "source": [
    "%matplotlib inline\n",
    "import numpy as np\n",
    "import pandas as pd\n",
    "import matplotlib.pyplot as plt\n",
    "from numpy.linalg import pinv"
   ]
  },
  {
   "cell_type": "code",
   "execution_count": 775,
   "metadata": {
    "collapsed": false
   },
   "outputs": [],
   "source": [
    "class LinearRegression:\n",
    "    \n",
    "    def __init__(self, X=None, Y=None):\n",
    "        \n",
    "        if X is None:\n",
    "            raise TypeError(\"'X' expected as 2-dimensional array, found 'None' instead\")\n",
    "        else:\n",
    "            temp = np.array(X)\n",
    "            if temp.ndim == 1:\n",
    "                raise TypeError(\"'X' is 1-dimensional array, not compatible with 2-dimension matrices\")\n",
    "            if temp.ndim > 2:\n",
    "                raise TypeError(\"'X' cannot be more than 2-dimensional, please specify a 2d matrix\")\n",
    "            \n",
    "            self.X = np.concatenate((np.ones((len(temp), 1)), temp), axis=1)\n",
    "            \n",
    "        if Y is None:\n",
    "            raise TypeError(\"'Y' expected as 1-dimensional array, found 'None' instead\")\n",
    "        else:\n",
    "            temp = np.array(Y)\n",
    "            if temp.ndim > 2:\n",
    "                raise TypeError(\"'Y' cannot be more than 2-dimensional, please specify a 1d vector\")\n",
    "            if temp.ndim == 1:\n",
    "                temp = temp.reshape((-1, 1))\n",
    "            elif temp.shape[0] == 1:\n",
    "                temp = temp.T\n",
    "            elif not temp.shape[1] == 1:\n",
    "                raise TypeError(\"'Y' has to be a 1d-array or a 2-dimensional vector along the row or column\")\n",
    "            \n",
    "            self.Y = temp\n",
    "            \n",
    "            if not len(self.X) == len(self.Y):\n",
    "                raise RuntimeError(\"Length of input records in 'X' %d do not match to number of length of output \\\n",
    "                        vector %d\" % (self.X.shape[0],self.Y.shape[0]))\n",
    "        \n",
    "        self.features = self.X.shape[1]\n",
    "        self.num = self.X.shape[0]\n",
    "        \n",
    "#         self.theta = np.zeros((self.features, 1))\n",
    "        self.theta = np.random.rand(self.features, 1)\n",
    "    \n",
    "#         self.validate()\n",
    "        \n",
    "    def validate(self):\n",
    "        print(\"Validating class\")\n",
    "        print(self.X)\n",
    "        print(self.Y)\n",
    "        print(self.theta)\n",
    "        \n",
    "    def H(self, rec):\n",
    "        temp = np.array(rec)\n",
    "        if temp.ndim == 1:\n",
    "            temp = temp.reshape(1, -1)\n",
    "            if not temp.shape[1] == self.features:\n",
    "                raise RuntimeError(\"Input record size cannot be other than number features %d\" % self.features)\n",
    "            return np.dot(temp, self.theta)[0, 0]\n",
    "    \n",
    "    def J(self, ip=None, op=None, theta=None, use_data=False, use_theta=False, regularize=False, reg_lambda=0):\n",
    "        \n",
    "        if use_data:\n",
    "            ip = self.X\n",
    "            op = self.Y\n",
    "            \n",
    "        if use_theta:\n",
    "            theta = self.theta\n",
    "            \n",
    "        if ip is None:\n",
    "            raise TypeError(\"'ip' expected as 2-dimensional array, found 'None' instead\")\n",
    "            \n",
    "        if op is None:\n",
    "            raise TypeError(\"'op' expected as 1-dimensional vector, found 'None' instead\")\n",
    "            \n",
    "        if theta is None:\n",
    "            raise TypeError(\"'theta' expected as 1-dimensional vector, found 'None' instead\")\n",
    "        \n",
    "        \n",
    "        if not isinstance(ip, np.ndarray):\n",
    "            ip = np.array(ip)\n",
    "        \n",
    "        if not ip.ndim == 2:\n",
    "            raise TypeError(\"Cannot work with non 2-dimensional input arrays\")\n",
    "            \n",
    "#         if not theta.ndim == 1:\n",
    "#             raise TypeError(\"Cannot work with non 1-dimensional parameter array\")\n",
    "            \n",
    "        if not ip.shape[1] == theta.shape[0]:\n",
    "            raise RuntimeError(\"Number of feature columns do not match input columns\")\n",
    "            \n",
    "#         if not op.ndim == 1:\n",
    "#             raise TypeError(\"Cannot work with non 1-dimensional output array\")\n",
    "            \n",
    "#         if not ip.shape[0] == op.shape[0]:\n",
    "#             raise RuntimeError(\"Number of feature columns do not match input columns\")\n",
    "            \n",
    "        \n",
    "        m = ip.shape[0]\n",
    "        \n",
    "        temp = np.dot(ip, theta)\n",
    "        temp = temp - self.Y\n",
    "\n",
    "        j = (temp**2).sum()/ 2 / m\n",
    "            \n",
    "        if regularize:\n",
    "            reg = reg_lambda * (theta**2).sum()\n",
    "            return j + reg / 2 / m\n",
    "        else:\n",
    "            return j\n",
    "    \n",
    "    def gradient_descent(self, ip=None, op=None, theta=None, alpha=0, use_data=False, use_theta=False, \n",
    "                         regularize=False, reg_lambda=0):\n",
    "        \n",
    "        if use_data:\n",
    "            ip = self.X\n",
    "            op = self.Y\n",
    "            \n",
    "        if use_theta:\n",
    "            theta = self.theta\n",
    "            \n",
    "        if ip is None:\n",
    "            raise TypeError(\"'ip' expected as 2-dimensional array, found 'None' instead\")\n",
    "            \n",
    "        if op is None:\n",
    "            raise TypeError(\"'op' expected as 1-dimensional vector, found 'None' instead\")\n",
    "            \n",
    "        if theta is None:\n",
    "            raise TypeError(\"'theta' expected as 1-dimensional vector, found 'None' instead\")\n",
    "        \n",
    "        \n",
    "        if not isinstance(ip, np.ndarray):\n",
    "            ip = np.array(ip)\n",
    "        \n",
    "        if not ip.ndim == 2:\n",
    "            raise TypeError(\"Cannot work with non 2-dimensional input arrays\")\n",
    "            \n",
    "#         if not theta.ndim == 1:\n",
    "#             raise TypeError(\"Cannot work with non 1-dimensional parameter array\")\n",
    "            \n",
    "        if not ip.shape[1] == theta.shape[0]:\n",
    "            raise RuntimeError(\"Number of feature columns do not match input columns\")\n",
    "            \n",
    "#         if not op.ndim == 1:\n",
    "#             raise TypeError(\"Cannot work with non 1-dimensional output array\")\n",
    "            \n",
    "#         if not ip.shape[0] == op.shape[0]:\n",
    "#             raise RuntimeError(\"Number of feature columns do not match input columns\")\n",
    "            \n",
    "        \n",
    "        m = ip.shape[0]\n",
    "        \n",
    "        temp = np.dot(ip, self.theta)\n",
    "        temp = temp - self.Y\n",
    "        \n",
    "        if regularize:\n",
    "            return ((1 - alpha*reg_lambda/m) * theta) - (alpha * (ip.T.dot(temp)) / m)\n",
    "        else:\n",
    "            return theta - (alpha * (ip.T.dot(temp)) / m)\n",
    "    \n",
    "    def normal_theta(self, ip=None, op=None, use_data=False, regularize=False, reg_lambda=0):\n",
    "        \n",
    "        if use_data:\n",
    "            ip = self.X\n",
    "            op = self.Y\n",
    "            \n",
    "        if ip is None:\n",
    "            raise TypeError(\"'ip' expected as 2-dimensional array, found 'None' instead\")\n",
    "            \n",
    "        if op is None:\n",
    "            raise TypeError(\"'op' expected as 1-dimensional vector, found 'None' instead\")\n",
    "        \n",
    "        if not isinstance(ip, np.ndarray):\n",
    "            ip = np.array(ip)\n",
    "        \n",
    "        if not ip.ndim == 2:\n",
    "            raise TypeError(\"Cannot work with non 2-dimensional input arrays\")\n",
    "            \n",
    "#         if not op.ndim == 1:\n",
    "#             raise TypeError(\"Cannot work with non 1-dimensional output array\")\n",
    "            \n",
    "#         if not ip.shape[0] == op.shape[0]:\n",
    "#             raise RuntimeError(\"Number of feature columns do not match input columns\")\n",
    "        \n",
    "        A = pinv(ip.T.dot(ip))\n",
    "        n = ip.shape[1]\n",
    "        i = np.eye(n)\n",
    "        i[0][0] = 0\n",
    "        \n",
    "        B = A\n",
    "        if regularize:\n",
    "            B = B + reg_lambda*i\n",
    "        return B.dot(ip.T).dot(op)\n",
    "    "
   ]
  },
  {
   "cell_type": "code",
   "execution_count": 776,
   "metadata": {
    "collapsed": false
   },
   "outputs": [],
   "source": [
    "model = LinearRegression(X = [[1], [2], [3]], Y = [1, 2, 3])"
   ]
  },
  {
   "cell_type": "code",
   "execution_count": 777,
   "metadata": {
    "collapsed": false
   },
   "outputs": [
    {
     "data": {
      "text/plain": [
       "array([[ -8.88178420e-16],\n",
       "       [  1.00000000e+00]])"
      ]
     },
     "execution_count": 777,
     "metadata": {},
     "output_type": "execute_result"
    }
   ],
   "source": [
    "t = model.normal_theta(use_data=True)\n",
    "t"
   ]
  },
  {
   "cell_type": "code",
   "execution_count": 778,
   "metadata": {
    "collapsed": false
   },
   "outputs": [
    {
     "data": {
      "text/plain": [
       "3.944304526105059e-31"
      ]
     },
     "execution_count": 778,
     "metadata": {},
     "output_type": "execute_result"
    }
   ],
   "source": [
    "model.J(use_data=True, theta=t)"
   ]
  },
  {
   "cell_type": "code",
   "execution_count": 779,
   "metadata": {
    "collapsed": true
   },
   "outputs": [],
   "source": [
    "foo = []"
   ]
  },
  {
   "cell_type": "code",
   "execution_count": 780,
   "metadata": {
    "collapsed": false
   },
   "outputs": [],
   "source": [
    "foo.append(model.J(use_data=True, use_theta=True, regularize=True, reg_lambda=.00001))"
   ]
  },
  {
   "cell_type": "code",
   "execution_count": 781,
   "metadata": {
    "collapsed": false,
    "scrolled": false
   },
   "outputs": [
    {
     "name": "stdout",
     "output_type": "stream",
     "text": [
      "[[ 0.35155483]\n",
      " [ 0.52359256]]\n"
     ]
    },
    {
     "data": {
      "text/plain": [
       "array([[  9.99971668e-06],\n",
       "       [  9.99995000e-01]])"
      ]
     },
     "execution_count": 781,
     "metadata": {},
     "output_type": "execute_result"
    }
   ],
   "source": [
    "print(model.theta)\n",
    "for _ in range(1000):\n",
    "    model.theta = model.gradient_descent(use_data=True, use_theta=True, alpha=.3, regularize=True, reg_lambda=.00001)\n",
    "    foo.append(model.J(use_data=True, use_theta=True, regularize=True, reg_lambda=.00001))\n",
    "model.theta"
   ]
  },
  {
   "cell_type": "code",
   "execution_count": 782,
   "metadata": {
    "collapsed": false
   },
   "outputs": [
    {
     "data": {
      "text/plain": [
       "8.3329166843473119e-12"
      ]
     },
     "execution_count": 782,
     "metadata": {},
     "output_type": "execute_result"
    }
   ],
   "source": [
    "model.J(use_data=True, use_theta=True)"
   ]
  },
  {
   "cell_type": "code",
   "execution_count": 783,
   "metadata": {
    "collapsed": false
   },
   "outputs": [
    {
     "data": {
      "image/png": "[encoded data removed]",
      "text/plain": [
       "<matplotlib.figure.Figure at 0x10fe07be0>"
      ]
     },
     "metadata": {},
     "output_type": "display_data"
    }
   ],
   "source": [
    "fig = plt.figure(figsize=(8, 6))\n",
    "\n",
    "ax = fig.add_subplot(1, 1, 1)\n",
    "\n",
    "sct = ax.plot(np.arange(1, 1+len(foo)), foo, 'ro')\n",
    "ax.set_yscale('log')\n",
    "\n",
    "plt.show()"
   ]
  },
  {
   "cell_type": "code",
   "execution_count": null,
   "metadata": {
    "collapsed": true
   },
   "outputs": [],
   "source": []
  }
 ],
 "metadata": {
  "kernelspec": {
   "display_name": "Python 3",
   "language": "python",
   "name": "python3"
  },
  "language_info": {
   "codemirror_mode": {
    "name": "ipython",
    "version": 3
   },
   "file_extension": ".py",
   "mimetype": "text/x-python",
   "name": "python",
   "nbconvert_exporter": "python",
   "pygments_lexer": "ipython3",
   "version": "3.5.1"
  }
 },
 "nbformat": 4,
 "nbformat_minor": 0
}
